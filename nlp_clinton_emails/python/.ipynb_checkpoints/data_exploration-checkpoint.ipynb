{
 "cells": [
  {
   "cell_type": "code",
   "execution_count": 82,
   "metadata": {
    "collapsed": false
   },
   "outputs": [],
   "source": [
    "# Prepare environment and load data\n",
    "import pandas as pd\n",
    "import nltk\n",
    "import feather\n",
    "\n",
    "from sklearn.feature_extraction.text import TfidfVectorizer\n",
    "\n",
    "event_dict = feather.read_dataframe('../dictionary/parsed_dict.feather')\n",
    "email_df = feather.read_dataframe('../email_data/simplified_email.feather')"
   ]
  },
  {
   "cell_type": "code",
   "execution_count": 122,
   "metadata": {
    "collapsed": true
   },
   "outputs": [],
   "source": [
    "# Helper function to extract nouns from a Python string object\n",
    "def extract_nouns(txt):\n",
    "    nouns = []\n",
    "\n",
    "    # create list of words in a text, taking out punctuations, symbols etc.\n",
    "    words = nltk.word_tokenize(txt)\n",
    "    # categorise all words in text with tags\n",
    "    tags = nltk.pos_tag(words)\n",
    "\n",
    "    # select all words categorised as nouns\n",
    "    for word, pos in tags:\n",
    "        if (pos == 'NN' or pos == 'NNS' or pos == 'NNP' or pos == 'NNPS'):\n",
    "            nouns.append(word.lower())\n",
    "\n",
    "    return nouns\n",
    "\n",
    "# Helper function to compute cosine similarity\n",
    "def cosine_sim(vect1, vect2):\n",
    "    a = set(vect1)\n",
    "    b = set(vect2)\n",
    "    top = len(a & b)\n",
    "    bottom = len(a | b)\n",
    "    if not bottom:\n",
    "        sim = 0\n",
    "    else:\n",
    "        sim = top / float(bottom)\n",
    "\n",
    "    return sim"
   ]
  },
  {
   "cell_type": "code",
   "execution_count": 83,
   "metadata": {
    "collapsed": false
   },
   "outputs": [
    {
     "data": {
      "text/html": [
       "<div>\n",
       "<table border=\"1\" class=\"dataframe\">\n",
       "  <thead>\n",
       "    <tr style=\"text-align: right;\">\n",
       "      <th>event</th>\n",
       "      <th>benghazi</th>\n",
       "      <th>iran_deal</th>\n",
       "      <th>hillary</th>\n",
       "      <th>doctrine</th>\n",
       "      <th>arab_spring</th>\n",
       "      <th>benghazi_committe</th>\n",
       "    </tr>\n",
       "  </thead>\n",
       "  <tbody>\n",
       "    <tr>\n",
       "      <th>dictionary</th>\n",
       "      <td>benghazi, attack, took, place, even, septemb, ...</td>\n",
       "      <td>joint, comprehens, plan, action, jcpoa, persia...</td>\n",
       "      <td>hillari, dian, rodham, clinton, xcb, x88h, xc9...</td>\n",
       "      <td>hillari, doctrin, term, us, describ, agenda, f...</td>\n",
       "      <td>arab, spring, arab, xd8, xa7, xd9, xd8, xb1, x...</td>\n",
       "      <td>unit, state, hous, select, committe, event, su...</td>\n",
       "    </tr>\n",
       "  </tbody>\n",
       "</table>\n",
       "</div>"
      ],
      "text/plain": [
       "event                                                benghazi  \\\n",
       "dictionary  benghazi, attack, took, place, even, septemb, ...   \n",
       "\n",
       "event                                               iran_deal  \\\n",
       "dictionary  joint, comprehens, plan, action, jcpoa, persia...   \n",
       "\n",
       "event                                                 hillary  \\\n",
       "dictionary  hillari, dian, rodham, clinton, xcb, x88h, xc9...   \n",
       "\n",
       "event                                                doctrine  \\\n",
       "dictionary  hillari, doctrin, term, us, describ, agenda, f...   \n",
       "\n",
       "event                                             arab_spring  \\\n",
       "dictionary  arab, spring, arab, xd8, xa7, xd9, xd8, xb1, x...   \n",
       "\n",
       "event                                       benghazi_committe  \n",
       "dictionary  unit, state, hous, select, committe, event, su...  "
      ]
     },
     "execution_count": 83,
     "metadata": {},
     "output_type": "execute_result"
    }
   ],
   "source": [
    "## Prepare event dataframe\n",
    "# type(event_dict.dictionary[0])\n",
    "# event_dict.columns.values.tolist()\n",
    "event_dict.drop(['NA'], inplace=True, axis=1)\n",
    "event_dict = event_dict.transpose()\n",
    "event_dict.columns = event_dict.loc['event']\n",
    "event_dict = event_dict.reindex(event_dict.index.drop(['event']))\n",
    "event_dict.head()"
   ]
  },
  {
   "cell_type": "code",
   "execution_count": 25,
   "metadata": {
    "collapsed": false
   },
   "outputs": [
    {
     "data": {
      "text/plain": [
       "['DocNumber', 'date', 'edited', 'email_raw']"
      ]
     },
     "execution_count": 25,
     "metadata": {},
     "output_type": "execute_result"
    }
   ],
   "source": [
    "email_df.columns.values.tolist()\n",
    "#email_df.date"
   ]
  },
  {
   "cell_type": "code",
   "execution_count": 85,
   "metadata": {
    "collapsed": false
   },
   "outputs": [],
   "source": [
    "## Event_dict matrix for cosine similarities\n",
    "event_mat = event_dict.values\n",
    "e, d = event_dict.shape\n",
    "\n",
    "# event_mat.shape\n",
    "# event_mat"
   ]
  },
  {
   "cell_type": "code",
   "execution_count": 95,
   "metadata": {
    "collapsed": false
   },
   "outputs": [],
   "source": [
    "## Prepare email dataframe\n",
    "# type(email_df.email_raw[1])\n",
    "# email_df.columns.values.tolist()\n",
    "## Convert string in email_raw column to list of strings\n",
    "# email_df.email_raw = email_df.email_raw.apply(lambda x: x.split(\",\"))\n",
    "\n",
    "## New dataframe for analysis\n",
    "df_email1 = email_df[['DocNumber', 'email_raw']]\n",
    "df_email1.set_index(['DocNumber'], inplace=True)"
   ]
  },
  {
   "cell_type": "code",
   "execution_count": 99,
   "metadata": {
    "collapsed": false
   },
   "outputs": [],
   "source": [
    "# Only keep nouns in event_dict\n",
    "df_dict1 = event_dict.applymap(extract_nouns)"
   ]
  },
  {
   "cell_type": "code",
   "execution_count": 96,
   "metadata": {
    "collapsed": false
   },
   "outputs": [],
   "source": [
    "# Only keep nouns in emails\n",
    "df_email1.raw = df_email1.email_raw.apply(lambda x: extract_nouns(x))"
   ]
  },
  {
   "cell_type": "code",
   "execution_count": 123,
   "metadata": {
    "collapsed": false
   },
   "outputs": [
    {
     "data": {
      "text/plain": [
       "0.0"
      ]
     },
     "execution_count": 123,
     "metadata": {},
     "output_type": "execute_result"
    }
   ],
   "source": [
    "# cosine_sim(vect1, vect2):\n",
    "\n",
    "data = {\"A\": \"hi there look at me\", \"B\": \"no you look at me\"}\n",
    "vocab = {\"A\": \"hi there look at me\", \"B\": \"no you look at me\"}\n",
    "a_df = pd.DataFrame(data.items(), columns=['A', 'B'])\n",
    "b_df = pd.DataFrame(vocab.items(), columns=['A'])\n",
    "# a_df = pd.DataFrame.from_dict({\"A\": \"hi there look at me\", \"B\": \"no you look at me\"}, index=np.array())\n",
    "a_new_df = cosine_sim(a_df['B'], b_df.loc[, x])\n",
    "# np.multiply(df['A'], df['B'])\n",
    "a_new_df\n"
   ]
  },
  {
   "cell_type": "code",
   "execution_count": 125,
   "metadata": {
    "collapsed": false
   },
   "outputs": [
    {
     "data": {
      "text/html": [
       "<div>\n",
       "<table border=\"1\" class=\"dataframe\">\n",
       "  <thead>\n",
       "    <tr style=\"text-align: right;\">\n",
       "      <th></th>\n",
       "      <th>A</th>\n",
       "      <th>B</th>\n",
       "    </tr>\n",
       "  </thead>\n",
       "  <tbody>\n",
       "    <tr>\n",
       "      <th>0</th>\n",
       "      <td>A</td>\n",
       "      <td>hi there look at me</td>\n",
       "    </tr>\n",
       "    <tr>\n",
       "      <th>1</th>\n",
       "      <td>B</td>\n",
       "      <td>no you look at me</td>\n",
       "    </tr>\n",
       "  </tbody>\n",
       "</table>\n",
       "</div>"
      ],
      "text/plain": [
       "   A                    B\n",
       "0  A  hi there look at me\n",
       "1  B    no you look at me"
      ]
     },
     "execution_count": 125,
     "metadata": {},
     "output_type": "execute_result"
    }
   ],
   "source": [
    "a_df"
   ]
  },
  {
   "cell_type": "code",
   "execution_count": 100,
   "metadata": {
    "collapsed": false
   },
   "outputs": [
    {
     "ename": "AttributeError",
     "evalue": "'DataFrame' object has no attribute 'event'",
     "output_type": "error",
     "traceback": [
      "\u001b[0;31m---------------------------------------------------------------------------\u001b[0m",
      "\u001b[0;31mAttributeError\u001b[0m                            Traceback (most recent call last)",
      "\u001b[0;32m<ipython-input-100-aed36d35eae8>\u001b[0m in \u001b[0;36m<module>\u001b[0;34m()\u001b[0m\n\u001b[1;32m      1\u001b[0m \u001b[0;31m# Create new dataframe containing similarities\u001b[0m\u001b[0;34m\u001b[0m\u001b[0;34m\u001b[0m\u001b[0m\n\u001b[0;32m----> 2\u001b[0;31m \u001b[0msim_df\u001b[0m \u001b[0;34m=\u001b[0m  \u001b[0mpd\u001b[0m\u001b[0;34m.\u001b[0m\u001b[0mDataFrame\u001b[0m\u001b[0;34m(\u001b[0m\u001b[0mcolumns\u001b[0m\u001b[0;34m=\u001b[0m\u001b[0mset\u001b[0m\u001b[0;34m(\u001b[0m\u001b[0mevent_dict\u001b[0m\u001b[0;34m.\u001b[0m\u001b[0mevent\u001b[0m\u001b[0;34m.\u001b[0m\u001b[0mtolist\u001b[0m\u001b[0;34m(\u001b[0m\u001b[0;34m)\u001b[0m\u001b[0;34m)\u001b[0m\u001b[0;34m)\u001b[0m\u001b[0;34m\u001b[0m\u001b[0m\n\u001b[0m\u001b[1;32m      3\u001b[0m \u001b[0msim_df\u001b[0m\u001b[0;34m[\u001b[0m\u001b[0;34m'date'\u001b[0m\u001b[0;34m]\u001b[0m \u001b[0;34m=\u001b[0m \u001b[0memail_df\u001b[0m\u001b[0;34m.\u001b[0m\u001b[0mdate\u001b[0m\u001b[0;34m\u001b[0m\u001b[0m\n\u001b[1;32m      4\u001b[0m \u001b[0;31m# sim_df\u001b[0m\u001b[0;34m\u001b[0m\u001b[0;34m\u001b[0m\u001b[0m\n",
      "\u001b[0;32m/Library/Python/2.7/site-packages/pandas/core/generic.pyc\u001b[0m in \u001b[0;36m__getattr__\u001b[0;34m(self, name)\u001b[0m\n\u001b[1;32m   2670\u001b[0m             \u001b[0;32mif\u001b[0m \u001b[0mname\u001b[0m \u001b[0;32min\u001b[0m \u001b[0mself\u001b[0m\u001b[0;34m.\u001b[0m\u001b[0m_info_axis\u001b[0m\u001b[0;34m:\u001b[0m\u001b[0;34m\u001b[0m\u001b[0m\n\u001b[1;32m   2671\u001b[0m                 \u001b[0;32mreturn\u001b[0m \u001b[0mself\u001b[0m\u001b[0;34m[\u001b[0m\u001b[0mname\u001b[0m\u001b[0;34m]\u001b[0m\u001b[0;34m\u001b[0m\u001b[0m\n\u001b[0;32m-> 2672\u001b[0;31m             \u001b[0;32mreturn\u001b[0m \u001b[0mobject\u001b[0m\u001b[0;34m.\u001b[0m\u001b[0m__getattribute__\u001b[0m\u001b[0;34m(\u001b[0m\u001b[0mself\u001b[0m\u001b[0;34m,\u001b[0m \u001b[0mname\u001b[0m\u001b[0;34m)\u001b[0m\u001b[0;34m\u001b[0m\u001b[0m\n\u001b[0m\u001b[1;32m   2673\u001b[0m \u001b[0;34m\u001b[0m\u001b[0m\n\u001b[1;32m   2674\u001b[0m     \u001b[0;32mdef\u001b[0m \u001b[0m__setattr__\u001b[0m\u001b[0;34m(\u001b[0m\u001b[0mself\u001b[0m\u001b[0;34m,\u001b[0m \u001b[0mname\u001b[0m\u001b[0;34m,\u001b[0m \u001b[0mvalue\u001b[0m\u001b[0;34m)\u001b[0m\u001b[0;34m:\u001b[0m\u001b[0;34m\u001b[0m\u001b[0m\n",
      "\u001b[0;31mAttributeError\u001b[0m: 'DataFrame' object has no attribute 'event'"
     ]
    }
   ],
   "source": [
    "# Create new dataframe containing similarities\n",
    "sim_df =  pd.DataFrame(columns=set(event_dict.event.tolist()))\n",
    "sim_df['date'] = email_df.date\n",
    "# sim_df"
   ]
  },
  {
   "cell_type": "code",
   "execution_count": null,
   "metadata": {
    "collapsed": true
   },
   "outputs": [],
   "source": [
    "data = df.values\n",
    "m, k = data.shape\n",
    "\n",
    "mat = np.zeros((m, m))\n",
    "\n",
    "for i in xrange(m):\n",
    "    for j in xrange(m):\n",
    "        if i != j:\n",
    "            mat[i][j] = cosine(data[i,:], data[j,:])\n",
    "        else:\n",
    "            mat[i][j] = 0."
   ]
  }
 ],
 "metadata": {
  "kernelspec": {
   "display_name": "Python 2",
   "language": "python",
   "name": "python2"
  },
  "language_info": {
   "codemirror_mode": {
    "name": "ipython",
    "version": 2
   },
   "file_extension": ".py",
   "mimetype": "text/x-python",
   "name": "python",
   "nbconvert_exporter": "python",
   "pygments_lexer": "ipython2",
   "version": "2.7.10"
  }
 },
 "nbformat": 4,
 "nbformat_minor": 0
}
