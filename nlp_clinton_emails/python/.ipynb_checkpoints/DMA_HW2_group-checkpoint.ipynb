{
 "cells": [
  {
   "cell_type": "code",
   "execution_count": 227,
   "metadata": {
    "collapsed": false
   },
   "outputs": [],
   "source": [
    "# Set up environment for analysis \n",
    "import csv\n",
    "import numpy as np\n",
    "import pandas as pd\n",
    "import patsy \n",
    "\n",
    "%matplotlib inline\n",
    "import matplotlib.pyplot as plt\n",
    "import seaborn as sns\n",
    "\n",
    "# For running regressions and R-type formulas\n",
    "import statsmodels\n",
    "import statsmodels.api as sm\n",
    "# R type regression formulas\n",
    "import statsmodels.formula.api as smf\n",
    "\n",
    "# For running ttest\n",
    "import scipy.stats as stats"
   ]
  },
  {
   "cell_type": "code",
   "execution_count": 228,
   "metadata": {
    "collapsed": false
   },
   "outputs": [
    {
     "name": "stdout",
     "output_type": "stream",
     "text": [
      "30000\n"
     ]
    }
   ],
   "source": [
    "# Load data\n",
    "df = pd.read_csv('RestaurantGrades.csv')\n",
    "\n",
    "print len(df)\n",
    "#df = df.dropna()\n",
    "#print len(df)"
   ]
  },
  {
   "cell_type": "code",
   "execution_count": 229,
   "metadata": {
    "collapsed": false
   },
   "outputs": [
    {
     "data": {
      "text/html": [
       "<div>\n",
       "<table border=\"1\" class=\"dataframe\">\n",
       "  <thead>\n",
       "    <tr style=\"text-align: right;\">\n",
       "      <th></th>\n",
       "      <th>treatment</th>\n",
       "      <th>pageviews</th>\n",
       "      <th>calls</th>\n",
       "      <th>reservations</th>\n",
       "      <th>business_id</th>\n",
       "      <th>restaurant_type</th>\n",
       "    </tr>\n",
       "  </thead>\n",
       "  <tbody>\n",
       "    <tr>\n",
       "      <th>0</th>\n",
       "      <td>0</td>\n",
       "      <td>643</td>\n",
       "      <td>44</td>\n",
       "      <td>39</td>\n",
       "      <td>1</td>\n",
       "      <td>chain</td>\n",
       "    </tr>\n",
       "    <tr>\n",
       "      <th>1</th>\n",
       "      <td>0</td>\n",
       "      <td>621</td>\n",
       "      <td>41</td>\n",
       "      <td>44</td>\n",
       "      <td>2</td>\n",
       "      <td>chain</td>\n",
       "    </tr>\n",
       "    <tr>\n",
       "      <th>2</th>\n",
       "      <td>0</td>\n",
       "      <td>581</td>\n",
       "      <td>40</td>\n",
       "      <td>38</td>\n",
       "      <td>3</td>\n",
       "      <td>chain</td>\n",
       "    </tr>\n",
       "  </tbody>\n",
       "</table>\n",
       "</div>"
      ],
      "text/plain": [
       "   treatment  pageviews  calls  reservations  business_id restaurant_type\n",
       "0          0        643     44            39            1           chain\n",
       "1          0        621     41            44            2           chain\n",
       "2          0        581     40            38            3           chain"
      ]
     },
     "execution_count": 229,
     "metadata": {},
     "output_type": "execute_result"
    }
   ],
   "source": [
    "df.head(3)"
   ]
  },
  {
   "cell_type": "code",
   "execution_count": 230,
   "metadata": {
    "collapsed": false
   },
   "outputs": [
    {
     "data": {
      "text/plain": [
       "'chain'"
      ]
     },
     "execution_count": 230,
     "metadata": {},
     "output_type": "execute_result"
    }
   ],
   "source": [
    "df.restaurant_type[0]"
   ]
  },
  {
   "cell_type": "code",
   "execution_count": 231,
   "metadata": {
    "collapsed": false
   },
   "outputs": [],
   "source": [
    "# Transform restaurant type variable to dummy\n",
    "# def chain_or_ind(descr):\n",
    "#     restau_type = []\n",
    "\n",
    "#     for d in descr:    \n",
    "#         if d == 'chain':\n",
    "#             restau_type.append(int(0))\n",
    "#         elif d == 'independent':\n",
    "#             restau_type.append(int(1))\n",
    "#         else:\n",
    "#             pass\n",
    "\n",
    "#     return restau_type\n",
    "\n",
    "# df.restaurant_type = df.restaurant_type.apply(lambda x: chain_or_ind(x))\n",
    "\n",
    "df_type = pd.get_dummies(df['restaurant_type'])\n",
    "df = pd.concat([df, df_type], axis=1)\n",
    "df.drop(df.columns[[5, 7]], axis=1, inplace=True)"
   ]
  },
  {
   "cell_type": "code",
   "execution_count": 232,
   "metadata": {
    "collapsed": false
   },
   "outputs": [
    {
     "data": {
      "text/html": [
       "<div>\n",
       "<table border=\"1\" class=\"dataframe\">\n",
       "  <thead>\n",
       "    <tr style=\"text-align: right;\">\n",
       "      <th></th>\n",
       "      <th>count</th>\n",
       "      <th>mean</th>\n",
       "      <th>std</th>\n",
       "      <th>min</th>\n",
       "      <th>25%</th>\n",
       "      <th>50%</th>\n",
       "      <th>75%</th>\n",
       "      <th>max</th>\n",
       "    </tr>\n",
       "  </thead>\n",
       "  <tbody>\n",
       "    <tr>\n",
       "      <th>treatment</th>\n",
       "      <td>30000.0</td>\n",
       "      <td>1.000000</td>\n",
       "      <td>0.816510</td>\n",
       "      <td>0.0</td>\n",
       "      <td>0.00</td>\n",
       "      <td>1.0</td>\n",
       "      <td>2.00</td>\n",
       "      <td>2.0</td>\n",
       "    </tr>\n",
       "    <tr>\n",
       "      <th>pageviews</th>\n",
       "      <td>30000.0</td>\n",
       "      <td>468.060400</td>\n",
       "      <td>168.162070</td>\n",
       "      <td>145.0</td>\n",
       "      <td>328.00</td>\n",
       "      <td>391.0</td>\n",
       "      <td>636.00</td>\n",
       "      <td>929.0</td>\n",
       "    </tr>\n",
       "    <tr>\n",
       "      <th>calls</th>\n",
       "      <td>30000.0</td>\n",
       "      <td>37.707533</td>\n",
       "      <td>7.965215</td>\n",
       "      <td>17.0</td>\n",
       "      <td>32.00</td>\n",
       "      <td>37.0</td>\n",
       "      <td>42.00</td>\n",
       "      <td>77.0</td>\n",
       "    </tr>\n",
       "    <tr>\n",
       "      <th>reservations</th>\n",
       "      <td>30000.0</td>\n",
       "      <td>36.554033</td>\n",
       "      <td>7.992309</td>\n",
       "      <td>15.0</td>\n",
       "      <td>31.00</td>\n",
       "      <td>36.0</td>\n",
       "      <td>41.00</td>\n",
       "      <td>79.0</td>\n",
       "    </tr>\n",
       "    <tr>\n",
       "      <th>business_id</th>\n",
       "      <td>30000.0</td>\n",
       "      <td>15000.500000</td>\n",
       "      <td>8660.398374</td>\n",
       "      <td>1.0</td>\n",
       "      <td>7500.75</td>\n",
       "      <td>15000.5</td>\n",
       "      <td>22500.25</td>\n",
       "      <td>30000.0</td>\n",
       "    </tr>\n",
       "    <tr>\n",
       "      <th>chain</th>\n",
       "      <td>30000.0</td>\n",
       "      <td>0.400000</td>\n",
       "      <td>0.489906</td>\n",
       "      <td>0.0</td>\n",
       "      <td>0.00</td>\n",
       "      <td>0.0</td>\n",
       "      <td>1.00</td>\n",
       "      <td>1.0</td>\n",
       "    </tr>\n",
       "  </tbody>\n",
       "</table>\n",
       "</div>"
      ],
      "text/plain": [
       "                count          mean          std    min      25%      50%  \\\n",
       "treatment     30000.0      1.000000     0.816510    0.0     0.00      1.0   \n",
       "pageviews     30000.0    468.060400   168.162070  145.0   328.00    391.0   \n",
       "calls         30000.0     37.707533     7.965215   17.0    32.00     37.0   \n",
       "reservations  30000.0     36.554033     7.992309   15.0    31.00     36.0   \n",
       "business_id   30000.0  15000.500000  8660.398374    1.0  7500.75  15000.5   \n",
       "chain         30000.0      0.400000     0.489906    0.0     0.00      0.0   \n",
       "\n",
       "                   75%      max  \n",
       "treatment         2.00      2.0  \n",
       "pageviews       636.00    929.0  \n",
       "calls            42.00     77.0  \n",
       "reservations     41.00     79.0  \n",
       "business_id   22500.25  30000.0  \n",
       "chain             1.00      1.0  "
      ]
     },
     "execution_count": 232,
     "metadata": {},
     "output_type": "execute_result"
    }
   ],
   "source": [
    "df.describe().T"
   ]
  },
  {
   "cell_type": "code",
   "execution_count": 233,
   "metadata": {
    "collapsed": false
   },
   "outputs": [
    {
     "name": "stdout",
     "output_type": "stream",
     "text": [
      "                            OLS Regression Results                            \n",
      "==============================================================================\n",
      "Dep. Variable:           reservations   R-squared:                       0.563\n",
      "Model:                            OLS   Adj. R-squared:                  0.563\n",
      "Method:                 Least Squares   F-statistic:                 1.289e+04\n",
      "Date:                Thu, 26 May 2016   Prob (F-statistic):               0.00\n",
      "Time:                        17:53:55   Log-Likelihood:                -92502.\n",
      "No. Observations:               30000   AIC:                         1.850e+05\n",
      "Df Residuals:                   29996   BIC:                         1.850e+05\n",
      "Df Model:                           3                                         \n",
      "Covariance Type:            nonrobust                                         \n",
      "==============================================================================\n",
      "                 coef    std err          t      P>|t|      [95.0% Conf. Int.]\n",
      "------------------------------------------------------------------------------\n",
      "Intercept     22.8525      0.180    126.932      0.000        22.500    23.205\n",
      "pageviews      0.0187      0.001     33.556      0.000         0.018     0.020\n",
      "treatment      3.2674      0.041     79.072      0.000         3.186     3.348\n",
      "chain          4.2201      0.189     22.345      0.000         3.850     4.590\n",
      "==============================================================================\n",
      "Omnibus:                      748.471   Durbin-Watson:                   1.671\n",
      "Prob(Omnibus):                  0.000   Jarque-Bera (JB):             1583.221\n",
      "Skew:                           0.137   Prob(JB):                         0.00\n",
      "Kurtosis:                       4.091   Cond. No.                     4.10e+03\n",
      "==============================================================================\n",
      "\n",
      "Warnings:\n",
      "[1] Standard Errors assume that the covariance matrix of the errors is correctly specified.\n",
      "[2] The condition number is large, 4.1e+03. This might indicate that there are\n",
      "strong multicollinearity or other numerical problems.\n"
     ]
    }
   ],
   "source": [
    "# Design matrices (endog & exog)\n",
    "# http://statsmodels.sourceforge.net/devel/gettingstarted.html\n",
    "y, X = patsy.dmatrices('reservations ~ pageviews + treatment + chain', data=df, return_type='dataframe')\n",
    "\n",
    "#y[:3]\n",
    "#X[:3]\n",
    "\n",
    "mod = sm.OLS(y, X)    # Describe model\n",
    "res = mod.fit()       # Fit model\n",
    "print res.summary()   # Summarize model"
   ]
  },
  {
   "cell_type": "code",
   "execution_count": 234,
   "metadata": {
    "collapsed": false
   },
   "outputs": [
    {
     "data": {
      "image/png": "[encoded data removed]",
      "text/plain": [
       "<matplotlib.figure.Figure at 0x119068d10>"
      ]
     },
     "execution_count": 234,
     "metadata": {},
     "output_type": "execute_result"
    },
    {
     "data": {
      "image/png": "[encoded data removed]",
      "text/plain": [
       "<matplotlib.figure.Figure at 0x119068d10>"
      ]
     },
     "metadata": {},
     "output_type": "display_data"
    }
   ],
   "source": [
    "sm.graphics.plot_partregress('reservations', 'pageviews', [], data=df, obs_labels=False)"
   ]
  },
  {
   "cell_type": "code",
   "execution_count": 205,
   "metadata": {
    "collapsed": false
   },
   "outputs": [],
   "source": [
    "#df[df['treatment']==0].describe().T\n",
    "#df[df['treatment']==1].describe().T\n",
    "#df[df['treatment']==2].describe().T"
   ]
  },
  {
   "cell_type": "markdown",
   "metadata": {},
   "source": [
    "## Analysis of New Ad Design on Total Population"
   ]
  },
  {
   "cell_type": "code",
   "execution_count": 235,
   "metadata": {
    "collapsed": false
   },
   "outputs": [
    {
     "name": "stdout",
     "output_type": "stream",
     "text": [
      "pageviews t-test Ttest_indResult(statistic=7.4872265424529232, pvalue=7.3259071909779983e-14)\n",
      "calls t-test Ttest_indResult(statistic=-39.993019691687763, pvalue=0.0)\n",
      "reservations t-test Ttest_indResult(statistic=-73.439013553400557, pvalue=0.0)\n"
     ]
    }
   ],
   "source": [
    "df_control = df[df['treatment']==0]\n",
    "df_old_ad = df[df['treatment']==1]\n",
    "df_new_ad = df[df['treatment']==2]\n",
    "\n",
    "# pageviews\n",
    "pg = stats.ttest_ind(df_old_ad.pageviews, df_new_ad.pageviews)\n",
    "# calls\n",
    "ca = stats.ttest_ind(df_old_ad.calls, df_new_ad.calls)\n",
    "# reservations\n",
    "res = stats.ttest_ind(df_old_ad.reservations, df_new_ad.reservations)\n",
    "\n",
    "# Low P-value indicate likelihood that we should reject the null \n",
    "# that the new ad has a statisticly significant impact on the average pageviews/calls/reservations\n",
    "print \"pageviews t-test\", pg\n",
    "print \"calls t-test\", ca\n",
    "print \"reservations t-test\", res"
   ]
  },
  {
   "cell_type": "code",
   "execution_count": null,
   "metadata": {
    "collapsed": false
   },
   "outputs": [],
   "source": []
  },
  {
   "cell_type": "code",
   "execution_count": 272,
   "metadata": {
    "collapsed": false
   },
   "outputs": [
    {
     "data": {
      "text/plain": [
       "<seaborn.axisgrid.FacetGrid at 0x127509250>"
      ]
     },
     "execution_count": 272,
     "metadata": {},
     "output_type": "execute_result"
    },
    {
     "data": {
      "image/png": "[encoded data removed]",
      "text/plain": [
       "<matplotlib.figure.Figure at 0x137e3d4d0>"
      ]
     },
     "metadata": {},
     "output_type": "display_data"
    }
   ],
   "source": [
    "g = sns.FacetGrid(df, col=\"chain\", size=6, aspect=.7)\n",
    "(g.map(sns.boxplot, \"chain\", \"pageviews\", \"treatment\")\n",
    " .despine(left=True)\n",
    " .add_legend(title=\"treatment\"))  "
   ]
  },
  {
   "cell_type": "code",
   "execution_count": 274,
   "metadata": {
    "collapsed": false
   },
   "outputs": [
    {
     "data": {
      "text/plain": [
       "<seaborn.axisgrid.FacetGrid at 0x12767e050>"
      ]
     },
     "execution_count": 274,
     "metadata": {},
     "output_type": "execute_result"
    },
    {
     "data": {
      "image/png": "[encoded data removed]",
      "text/plain": [
       "<matplotlib.figure.Figure at 0x1275fdd50>"
      ]
     },
     "metadata": {},
     "output_type": "display_data"
    }
   ],
   "source": [
    "g = sns.FacetGrid(df, col=\"chain\", size=6, aspect=.7)\n",
    "(g.map(sns.boxplot, \"chain\", \"calls\", \"treatment\")\n",
    " .despine(left=True)\n",
    " .add_legend(title=\"treatment\")) "
   ]
  },
  {
   "cell_type": "code",
   "execution_count": 275,
   "metadata": {
    "collapsed": false
   },
   "outputs": [
    {
     "data": {
      "text/plain": [
       "<seaborn.axisgrid.FacetGrid at 0x126f60ed0>"
      ]
     },
     "execution_count": 275,
     "metadata": {},
     "output_type": "execute_result"
    },
    {
     "data": {
      "image/png": "[encoded data removed]",
      "text/plain": [
       "<matplotlib.figure.Figure at 0x1382f13d0>"
      ]
     },
     "metadata": {},
     "output_type": "display_data"
    }
   ],
   "source": [
    "g = sns.FacetGrid(df, col=\"chain\", size=6, aspect=.7)\n",
    "(g.map(sns.boxplot, \"chain\", \"reservations\", \"treatment\")\n",
    " .despine(left=True)\n",
    " .add_legend(title=\"treatment\")) "
   ]
  },
  {
   "cell_type": "markdown",
   "metadata": {},
   "source": [
    "### Analysis of New Ad Design on Independent Restaurants"
   ]
  },
  {
   "cell_type": "code",
   "execution_count": 217,
   "metadata": {
    "collapsed": false
   },
   "outputs": [
    {
     "name": "stdout",
     "output_type": "stream",
     "text": [
      "pageviews t-test Ttest_indResult(statistic=38.591107913233074, pvalue=3.1587389203854721e-307)\n",
      "calls t-test Ttest_indResult(statistic=-58.701552342812008, pvalue=0.0)\n",
      "reservations t-test Ttest_indResult(statistic=-106.66692997967377, pvalue=0.0)\n"
     ]
    }
   ],
   "source": [
    "df_ind =  df[df['chain']==0.0]\n",
    "# #df_chain =  df[df['chain']==1.0]\n",
    "df_ind_control = df_ind[df_ind['treatment']==0]\n",
    "df_ind_old_ad = df_ind[df_ind['treatment']==1]\n",
    "df_ind_new_ad = df_ind[df_ind['treatment']==2]\n",
    "\n",
    "# pageviews\n",
    "pg_ind = stats.ttest_ind(df_ind_old_ad.pageviews, df_ind_new_ad.pageviews)\n",
    "# calls\n",
    "ca_ind = stats.ttest_ind(df_ind_old_ad.calls, df_ind_new_ad.calls)\n",
    "# reservations\n",
    "res_ind = stats.ttest_ind(df_ind_old_ad.reservations, df_ind_new_ad.reservations)\n",
    "\n",
    "# Low P-value indicate likelihood that we should reject the null \n",
    "# that the new ad has a statisticly significant impact on the average pageviews/calls/reservations\n",
    "print \"pageviews t-test\", pg_ind\n",
    "print \"calls t-test\", ca_ind\n",
    "print \"reservations t-test\", res_ind"
   ]
  },
  {
   "cell_type": "markdown",
   "metadata": {},
   "source": [
    "### Analysis of New Ad Design on Chain Restaurants"
   ]
  },
  {
   "cell_type": "code",
   "execution_count": 218,
   "metadata": {
    "collapsed": false
   },
   "outputs": [
    {
     "name": "stdout",
     "output_type": "stream",
     "text": [
      "pageviews t-test Ttest_indResult(statistic=-0.12847027314084158, pvalue=0.89778005198289978)\n",
      "calls t-test Ttest_indResult(statistic=-25.832748453785847, pvalue=2.1198613861279829e-141)\n",
      "reservations t-test Ttest_indResult(statistic=-50.156711884528043, pvalue=0.0)\n"
     ]
    }
   ],
   "source": [
    "df_chain =  df[df['chain']==1.0]\n",
    "df_chain_control = df_chain[df_chain['treatment']==0]\n",
    "df_chain_old_ad = df_chain[df_chain['treatment']==1]\n",
    "df_chain_new_ad = df_chain[df_chain['treatment']==2]\n",
    "\n",
    "# pageviews\n",
    "pg_chain = stats.ttest_ind(df_chain_old_ad.pageviews, df_chain_new_ad.pageviews)\n",
    "# calls\n",
    "ca_chain = stats.ttest_ind(df_chain_old_ad.calls, df_chain_new_ad.calls)\n",
    "# reservations\n",
    "res_chain = stats.ttest_ind(df_chain_old_ad.reservations, df_chain_new_ad.reservations)\n",
    "\n",
    "# Low P-value indicate likelihood that we should reject the null \n",
    "# that the new ad has a statisticly significant impact on the average pageviews/calls/reservations\n",
    "print \"pageviews t-test\", pg_chain\n",
    "print \"calls t-test\", ca_chain\n",
    "print \"reservations t-test\", res_chain"
   ]
  },
  {
   "cell_type": "code",
   "execution_count": null,
   "metadata": {
    "collapsed": true
   },
   "outputs": [],
   "source": []
  }
 ],
 "metadata": {
  "kernelspec": {
   "display_name": "Python 2",
   "language": "python",
   "name": "python2"
  },
  "language_info": {
   "codemirror_mode": {
    "name": "ipython",
    "version": 2
   },
   "file_extension": ".py",
   "mimetype": "text/x-python",
   "name": "python",
   "nbconvert_exporter": "python",
   "pygments_lexer": "ipython2",
   "version": "2.7.10"
  }
 },
 "nbformat": 4,
 "nbformat_minor": 0
}
