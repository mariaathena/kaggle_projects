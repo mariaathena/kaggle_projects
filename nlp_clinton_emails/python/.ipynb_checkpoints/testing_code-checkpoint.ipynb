{
 "cells": [
  {
   "cell_type": "code",
   "execution_count": 277,
   "metadata": {
    "collapsed": false
   },
   "outputs": [],
   "source": [
    "# Prepare environment and load data\n",
    "import pandas as pd\n",
    "import nltk\n",
    "import feather\n",
    "import re, math\n",
    "from collections import Counter\n",
    "\n",
    "event_dict = feather.read_dataframe('../parsed_data/parsed_dict.feather')\n",
    "email_df = feather.read_dataframe('../parsed_data/simplified_email.feather')"
   ]
  },
  {
   "cell_type": "code",
   "execution_count": 278,
   "metadata": {
    "collapsed": false
   },
   "outputs": [],
   "source": [
    "# Helper function to extract nouns from a Python string object\n",
    "def extract_nouns(txt):\n",
    "    nouns = []\n",
    "\n",
    "    # create list of words in a text, taking out punctuations, symbols etc.\n",
    "    words = nltk.word_tokenize(txt)\n",
    "    # categorise all words in text with tags\n",
    "    tags = nltk.pos_tag(words)\n",
    "\n",
    "    # select all words categorised as nouns\n",
    "    for word, pos in tags:\n",
    "        if (pos == 'NN' or pos == 'NNS' or pos == 'NNP' or pos == 'NNPS'):\n",
    "            nouns.append(word.lower())\n",
    "\n",
    "    return nouns\n",
    "\n",
    "# Helper function to convert text to vector\n",
    "WORD = re.compile(r'\\w+')\n",
    "\n",
    "def text_to_vector(text):\n",
    "     words = WORD.findall(text)\n",
    "     return Counter(words)\n",
    "\n",
    "# Helper function to compute cosine similarity\n",
    "def cosine_sim(vect1, vect2):\n",
    "    a = set(vect1)\n",
    "    b = set(vect2)\n",
    "    top = len(a & b)\n",
    "    bottom = len(a | b)\n",
    "    if not bottom:\n",
    "        sim = 0\n",
    "    else:\n",
    "        sim = top / float(bottom)\n",
    "\n",
    "    return sim"
   ]
  },
  {
   "cell_type": "code",
   "execution_count": 279,
   "metadata": {
    "collapsed": false
   },
   "outputs": [
    {
     "data": {
      "text/plain": [
       "' expression'"
      ]
     },
     "execution_count": 279,
     "metadata": {},
     "output_type": "execute_result"
    }
   ],
   "source": [
    "# Testing for regular expression\n",
    "import re\n",
    "text='xd8, xa7, xd9, xd8, xb1, xd8, expression'\n",
    "t = re.sub(r'(^|\\s)x(\\w+,)', r'', text)\n",
    "t\n",
    "# re.sub(r'(^|\\s),', r'\\1', text1)"
   ]
  },
  {
   "cell_type": "code",
   "execution_count": 280,
   "metadata": {
    "collapsed": false
   },
   "outputs": [
    {
     "data": {
      "text/html": [
       "<div>\n",
       "<table border=\"1\" class=\"dataframe\">\n",
       "  <thead>\n",
       "    <tr style=\"text-align: right;\">\n",
       "      <th>event</th>\n",
       "      <th>benghazi</th>\n",
       "      <th>iran_deal</th>\n",
       "      <th>hillary</th>\n",
       "      <th>doctrine</th>\n",
       "      <th>arab_spring</th>\n",
       "      <th>benghazi_committe</th>\n",
       "    </tr>\n",
       "  </thead>\n",
       "  <tbody>\n",
       "    <tr>\n",
       "      <th>dictionary</th>\n",
       "      <td>benghazi, attack, took, place, even, septemb, ...</td>\n",
       "      <td>joint, comprehens, plan, action, jcpoa, persia...</td>\n",
       "      <td>hillari, dian, rodham, clinton, da, born, octo...</td>\n",
       "      <td>hillari, doctrin, term, us, describ, agenda, f...</td>\n",
       "      <td>arab, spring, arab, ar, rab, al, revolutionari...</td>\n",
       "      <td>unit, state, hous, select, committe, event, su...</td>\n",
       "    </tr>\n",
       "  </tbody>\n",
       "</table>\n",
       "</div>"
      ],
      "text/plain": [
       "event                                                benghazi  \\\n",
       "dictionary  benghazi, attack, took, place, even, septemb, ...   \n",
       "\n",
       "event                                               iran_deal  \\\n",
       "dictionary  joint, comprehens, plan, action, jcpoa, persia...   \n",
       "\n",
       "event                                                 hillary  \\\n",
       "dictionary  hillari, dian, rodham, clinton, da, born, octo...   \n",
       "\n",
       "event                                                doctrine  \\\n",
       "dictionary  hillari, doctrin, term, us, describ, agenda, f...   \n",
       "\n",
       "event                                             arab_spring  \\\n",
       "dictionary  arab, spring, arab, ar, rab, al, revolutionari...   \n",
       "\n",
       "event                                       benghazi_committe  \n",
       "dictionary  unit, state, hous, select, committe, event, su...  "
      ]
     },
     "execution_count": 280,
     "metadata": {},
     "output_type": "execute_result"
    }
   ],
   "source": [
    "## Prepare event dataframe\n",
    "# type(event_dict.dictionary[0])\n",
    "# event_dict.columns.values.tolist()\n",
    "event_dict.drop(['NA'], inplace=True, axis=1)\n",
    "event_dict = event_dict.transpose()\n",
    "event_dict.columns = event_dict.loc['event']\n",
    "event_dict = event_dict.reindex(event_dict.index.drop(['event']))\n",
    "event_dict = event_dict.applymap(lambda z: re.sub(r'(^|\\s)x(\\w+,)', r'', z))\n",
    "event_dict.head()"
   ]
  },
  {
   "cell_type": "code",
   "execution_count": 281,
   "metadata": {
    "collapsed": false
   },
   "outputs": [],
   "source": [
    "# Only keep nouns in event_dict\n",
    "df_dict1 = event_dict.applymap(extract_nouns)"
   ]
  },
  {
   "cell_type": "code",
   "execution_count": 282,
   "metadata": {
    "collapsed": false
   },
   "outputs": [
    {
     "data": {
      "text/plain": [
       "['DocNumber', 'date', 'edited', 'email_raw']"
      ]
     },
     "execution_count": 282,
     "metadata": {},
     "output_type": "execute_result"
    }
   ],
   "source": [
    "email_df.columns.tolist()\n",
    "#email_df.DocNumber"
   ]
  },
  {
   "cell_type": "code",
   "execution_count": 283,
   "metadata": {
    "collapsed": false
   },
   "outputs": [],
   "source": [
    "## Event_dict matrix for cosine similarities\n",
    "# event_mat = event_dict.values\n",
    "# e, d = event_dict.shape\n",
    "# event_mat.shape\n",
    "# event_mat"
   ]
  },
  {
   "cell_type": "code",
   "execution_count": 284,
   "metadata": {
    "collapsed": false
   },
   "outputs": [],
   "source": [
    "## Prepare email dataframe\n",
    "# type(email_df.email_raw[1])\n",
    "# email_df.columns.values.tolist()\n",
    "## Convert string in email_raw column to list of strings\n",
    "# email_df.email_raw = email_df.email_raw.apply(lambda x: x.split(\",\"))\n",
    "\n",
    "## New dataframe for analysis\n",
    "email_df1 = email_df[['DocNumber', 'email_raw']]\n",
    "email_df1.set_index(['DocNumber'], inplace=True)"
   ]
  },
  {
   "cell_type": "code",
   "execution_count": 285,
   "metadata": {
    "collapsed": false
   },
   "outputs": [
    {
     "data": {
      "text/plain": [
       "str"
      ]
     },
     "execution_count": 285,
     "metadata": {},
     "output_type": "execute_result"
    }
   ],
   "source": [
    "# email_df1.columns.values.tolist()\n",
    "type(email_df1.email_raw[1])"
   ]
  },
  {
   "cell_type": "code",
   "execution_count": 286,
   "metadata": {
    "collapsed": false
   },
   "outputs": [],
   "source": [
    "# Only keep nouns in emails\n",
    "email_df1 = email_df1.head()\n",
    "email_df1.email_raw = email_df1.email_raw.apply(lambda x: extract_nouns(x))"
   ]
  },
  {
   "cell_type": "code",
   "execution_count": 287,
   "metadata": {
    "collapsed": false
   },
   "outputs": [
    {
     "data": {
      "text/plain": [
       "list"
      ]
     },
     "execution_count": 287,
     "metadata": {},
     "output_type": "execute_result"
    }
   ],
   "source": [
    "type(email_df1.email_raw[1])"
   ]
  },
  {
   "cell_type": "code",
   "execution_count": 289,
   "metadata": {
    "collapsed": false
   },
   "outputs": [
    {
     "data": {
      "text/html": [
       "<div>\n",
       "<table border=\"1\" class=\"dataframe\">\n",
       "  <thead>\n",
       "    <tr style=\"text-align: right;\">\n",
       "      <th></th>\n",
       "      <th>DocNumber</th>\n",
       "      <th>date</th>\n",
       "      <th>benghazi</th>\n",
       "      <th>iran_deal</th>\n",
       "      <th>hillary</th>\n",
       "      <th>doctrine</th>\n",
       "      <th>arab_spring</th>\n",
       "      <th>benghazi_committe</th>\n",
       "    </tr>\n",
       "  </thead>\n",
       "  <tbody>\n",
       "    <tr>\n",
       "      <th>0</th>\n",
       "      <td>C05739545</td>\n",
       "      <td>09/12/2012</td>\n",
       "      <td>0.011</td>\n",
       "      <td>0.008</td>\n",
       "      <td>0.007</td>\n",
       "      <td>0.009</td>\n",
       "      <td>0.005</td>\n",
       "      <td>0.015</td>\n",
       "    </tr>\n",
       "    <tr>\n",
       "      <th>1</th>\n",
       "      <td>C05739546</td>\n",
       "      <td>03/03/2011</td>\n",
       "      <td>0.098</td>\n",
       "      <td>0.062</td>\n",
       "      <td>0.072</td>\n",
       "      <td>0.081</td>\n",
       "      <td>0.095</td>\n",
       "      <td>0.099</td>\n",
       "    </tr>\n",
       "    <tr>\n",
       "      <th>2</th>\n",
       "      <td>C05739547</td>\n",
       "      <td>09/12/2012</td>\n",
       "      <td>0.011</td>\n",
       "      <td>0.008</td>\n",
       "      <td>0.008</td>\n",
       "      <td>0.014</td>\n",
       "      <td>0.007</td>\n",
       "      <td>0.019</td>\n",
       "    </tr>\n",
       "    <tr>\n",
       "      <th>3</th>\n",
       "      <td>C05739550</td>\n",
       "      <td>09/12/2012</td>\n",
       "      <td>0.021</td>\n",
       "      <td>0.013</td>\n",
       "      <td>0.013</td>\n",
       "      <td>0.023</td>\n",
       "      <td>0.016</td>\n",
       "      <td>0.028</td>\n",
       "    </tr>\n",
       "    <tr>\n",
       "      <th>4</th>\n",
       "      <td>C05739554</td>\n",
       "      <td>03/11/2011</td>\n",
       "      <td>0.095</td>\n",
       "      <td>0.061</td>\n",
       "      <td>0.070</td>\n",
       "      <td>0.075</td>\n",
       "      <td>0.090</td>\n",
       "      <td>0.096</td>\n",
       "    </tr>\n",
       "  </tbody>\n",
       "</table>\n",
       "</div>"
      ],
      "text/plain": [
       "   DocNumber        date  benghazi  iran_deal  hillary  doctrine  arab_spring  \\\n",
       "0  C05739545  09/12/2012     0.011      0.008    0.007     0.009        0.005   \n",
       "1  C05739546  03/03/2011     0.098      0.062    0.072     0.081        0.095   \n",
       "2  C05739547  09/12/2012     0.011      0.008    0.008     0.014        0.007   \n",
       "3  C05739550  09/12/2012     0.021      0.013    0.013     0.023        0.016   \n",
       "4  C05739554  03/11/2011     0.095      0.061    0.070     0.075        0.090   \n",
       "\n",
       "   benghazi_committe  \n",
       "0              0.015  \n",
       "1              0.099  \n",
       "2              0.019  \n",
       "3              0.028  \n",
       "4              0.096  "
      ]
     },
     "execution_count": 289,
     "metadata": {},
     "output_type": "execute_result"
    }
   ],
   "source": [
    "# Create new dataframe to contain cosine similarities\n",
    "# cosim_df = pd.DataFrame.from_dict(dict([for l in list_events ]))\n",
    "cosim_df = email_df.head()[['DocNumber', 'date']]\n",
    "\n",
    "beng = text_to_vector(event_dict.benghazi[0])\n",
    "iran = text_to_vector(event_dict.iran_deal[0])\n",
    "hill = text_to_vector(event_dict.hillary[0])\n",
    "doct = text_to_vector(event_dict.doctrine[0])\n",
    "spring = text_to_vector(event_dict.arab_spring[0])\n",
    "comm = text_to_vector(event_dict.benghazi_committe[0])\n",
    "# print cosine_sim(beng, hill)\n",
    "\n",
    "benghazi = []\n",
    "iran_deal = []\n",
    "hillary = []\n",
    "doctrine = []\n",
    "arab_spring = []\n",
    "benghazi_committe = []\n",
    "\n",
    "# email_df1 = email_df1.email_raw.apply(lambda x: text_to_vector(x))\n",
    "\n",
    "for index, emails in email_df1.iterrows():\n",
    "    for email in emails:\n",
    "        benghazi.append(round(cosine_sim(beng, email), 3))\n",
    "        iran_deal.append(round(cosine_sim(iran, email), 3))\n",
    "        hillary.append(round(cosine_sim(hill, email), 3))\n",
    "        doctrine.append(round(cosine_sim(doct, email), 3))\n",
    "        arab_spring.append(round(cosine_sim(spring, email), 3))\n",
    "        benghazi_committe.append(round(cosine_sim(comm, email), 3))\n",
    "        \n",
    "cosim_df['benghazi'] = benghazi\n",
    "cosim_df['iran_deal'] = iran_deal\n",
    "cosim_df['hillary'] = hillary\n",
    "cosim_df['doctrine'] = doctrine\n",
    "cosim_df['arab_spring'] = arab_spring\n",
    "cosim_df['benghazi_committe'] = benghazi_committe\n",
    "cosim_df"
   ]
  },
  {
   "cell_type": "code",
   "execution_count": null,
   "metadata": {
    "collapsed": false
   },
   "outputs": [],
   "source": []
  },
  {
   "cell_type": "code",
   "execution_count": null,
   "metadata": {
    "collapsed": false
   },
   "outputs": [],
   "source": []
  },
  {
   "cell_type": "code",
   "execution_count": null,
   "metadata": {
    "collapsed": false
   },
   "outputs": [],
   "source": []
  },
  {
   "cell_type": "code",
   "execution_count": null,
   "metadata": {
    "collapsed": false
   },
   "outputs": [],
   "source": [
    "# cosine_sim(vect1, vect2):\n",
    "\n",
    "data = {\"A\": \"hi there look at me\", \"B\": \"i like the way you look\"}\n",
    "vocab = {\"C\": \"no you look at me\", \"D\": \"i said look at me first\"}\n",
    "a_df = pd.DataFrame(data.items(), columns=['A', 'B'])\n",
    "b_df = pd.DataFrame(vocab.items(), columns=['C', 'D'])\n",
    "# a_df = pd.DataFrame.from_dict({\"A\": \"hi there look at me\", \"B\": \"no you look at me\"}, index=np.array())\n",
    "# a_new_df = cosine_sim(a_df['B'], b_df.loc[, x])\n",
    "# np.multiply(df['A'], df['B'])\n",
    "# a_new_df\n"
   ]
  },
  {
   "cell_type": "code",
   "execution_count": null,
   "metadata": {
    "collapsed": false
   },
   "outputs": [],
   "source": [
    "# new_df = email_df.DocNumber\n",
    "new_df = pd.DataFrame(columns=b_df.columns.values.tolist())\n",
    "\n",
    "\n",
    "from collections import defaultdict\n",
    "dates_dict = defaultdict(list)\n",
    "\n",
    "for event, vaocab in cur:\n",
    "    dates_dict[key].append(date)\n",
    "C = []\n",
    "D = []\n",
    "for index1, row1 in a_df.iterrows():\n",
    "    for index2, row2 in b_df.iterrows():\n",
    "#         print cosine_sim(row1.B, row2.D)\n",
    "        C.append(cosine_sim(row1.B, row2.C))\n",
    "        D.append(cosine_sim(row1.B, row2.D))\n",
    "        \n",
    "# new_df.columns.values.tolist()\n",
    "new_df['C'] = C\n",
    "new_df['D'] = D\n",
    "new_df"
   ]
  },
  {
   "cell_type": "code",
   "execution_count": null,
   "metadata": {
    "collapsed": false
   },
   "outputs": [],
   "source": [
    "type(event_dict.head())"
   ]
  },
  {
   "cell_type": "code",
   "execution_count": null,
   "metadata": {
    "collapsed": false
   },
   "outputs": [],
   "source": [
    "# Create new dataframe containing similarities\n",
    "sim_df = pd.DataFrame(columns=set(event_dict.event.tolist()))\n",
    "sim_df['date'] = email_df.date\n",
    "# sim_df"
   ]
  },
  {
   "cell_type": "code",
   "execution_count": null,
   "metadata": {
    "collapsed": true
   },
   "outputs": [],
   "source": [
    "# data = df.values\n",
    "# m, k = data.shape\n",
    "\n",
    "# mat = np.zeros((m, m))\n",
    "\n",
    "# for i in xrange(m):\n",
    "#     for j in xrange(m):\n",
    "#         if i != j:\n",
    "#             mat[i][j] = cosine(data[i,:], data[j,:])\n",
    "#         else:\n",
    "#             mat[i][j] = 0."
   ]
  }
 ],
 "metadata": {
  "kernelspec": {
   "display_name": "Python 2",
   "language": "python",
   "name": "python2"
  },
  "language_info": {
   "codemirror_mode": {
    "name": "ipython",
    "version": 2
   },
   "file_extension": ".py",
   "mimetype": "text/x-python",
   "name": "python",
   "nbconvert_exporter": "python",
   "pygments_lexer": "ipython2",
   "version": "2.7.10"
  }
 },
 "nbformat": 4,
 "nbformat_minor": 0
}
