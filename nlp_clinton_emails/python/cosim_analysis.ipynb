{
 "cells": [
  {
   "cell_type": "code",
   "execution_count": 39,
   "metadata": {
    "collapsed": false
   },
   "outputs": [
    {
     "data": {
      "text/html": [
       "<div>\n",
       "<table border=\"1\" class=\"dataframe\">\n",
       "  <thead>\n",
       "    <tr style=\"text-align: right;\">\n",
       "      <th></th>\n",
       "      <th>DocNumber</th>\n",
       "      <th>date</th>\n",
       "      <th>edited_x</th>\n",
       "      <th>benghazi</th>\n",
       "      <th>wiki_leak</th>\n",
       "      <th>doctrine</th>\n",
       "      <th>arab_spring</th>\n",
       "      <th>russian_reset</th>\n",
       "    </tr>\n",
       "  </thead>\n",
       "  <tbody>\n",
       "    <tr>\n",
       "      <th>0</th>\n",
       "      <td>C05739545</td>\n",
       "      <td>09/12/2012</td>\n",
       "      <td>0.0</td>\n",
       "      <td>0.011</td>\n",
       "      <td>0.014</td>\n",
       "      <td>0.009</td>\n",
       "      <td>0.005</td>\n",
       "      <td>0.018</td>\n",
       "    </tr>\n",
       "    <tr>\n",
       "      <th>1</th>\n",
       "      <td>C05739546</td>\n",
       "      <td>03/03/2011</td>\n",
       "      <td>1.0</td>\n",
       "      <td>0.098</td>\n",
       "      <td>0.091</td>\n",
       "      <td>0.081</td>\n",
       "      <td>0.095</td>\n",
       "      <td>0.078</td>\n",
       "    </tr>\n",
       "  </tbody>\n",
       "</table>\n",
       "</div>"
      ],
      "text/plain": [
       "   DocNumber        date  edited_x  benghazi  wiki_leak  doctrine  \\\n",
       "0  C05739545  09/12/2012       0.0     0.011      0.014     0.009   \n",
       "1  C05739546  03/03/2011       1.0     0.098      0.091     0.081   \n",
       "\n",
       "   arab_spring  russian_reset  \n",
       "0        0.005          0.018  \n",
       "1        0.095          0.078  "
      ]
     },
     "execution_count": 39,
     "metadata": {},
     "output_type": "execute_result"
    }
   ],
   "source": [
    "# Prepare environment and load data\n",
    "import pandas as pd\n",
    "import numpy as np\n",
    "import nltk\n",
    "import feather\n",
    "\n",
    "% matplotlib inline\n",
    "import matplotlib.pyplot as plt\n",
    "import seaborn as sns\n",
    "\n",
    "cosim_df = feather.read_dataframe('../parsed_data/event_cosine_sim.feather')\n",
    "# Remove Hillary dictionary\n",
    "cosim_df.drop(cosim_df.columns[[5, 9]], axis=1, inplace=True)\n",
    "cosim_df.head(2)"
   ]
  },
  {
   "cell_type": "code",
   "execution_count": 40,
   "metadata": {
    "collapsed": false
   },
   "outputs": [
    {
     "data": {
      "text/plain": [
       "0.54921285037757583"
      ]
     },
     "execution_count": 40,
     "metadata": {},
     "output_type": "execute_result"
    }
   ],
   "source": [
    "# Rate of redacted emails\n",
    "np.sum(cosim_df.edited_x) / len(cosim_df)"
   ]
  },
  {
   "cell_type": "code",
   "execution_count": 43,
   "metadata": {
    "collapsed": false
   },
   "outputs": [
    {
     "data": {
      "text/html": [
       "<div>\n",
       "<table border=\"1\" class=\"dataframe\">\n",
       "  <thead>\n",
       "    <tr style=\"text-align: right;\">\n",
       "      <th></th>\n",
       "      <th>count</th>\n",
       "      <th>mean</th>\n",
       "      <th>std</th>\n",
       "      <th>min</th>\n",
       "      <th>25%</th>\n",
       "      <th>50%</th>\n",
       "      <th>75%</th>\n",
       "      <th>max</th>\n",
       "    </tr>\n",
       "  </thead>\n",
       "  <tbody>\n",
       "    <tr>\n",
       "      <th>edited_x</th>\n",
       "      <td>7813.0</td>\n",
       "      <td>0.549213</td>\n",
       "      <td>0.497604</td>\n",
       "      <td>0.0</td>\n",
       "      <td>0.000</td>\n",
       "      <td>1.000</td>\n",
       "      <td>1.000</td>\n",
       "      <td>1.000</td>\n",
       "    </tr>\n",
       "    <tr>\n",
       "      <th>benghazi</th>\n",
       "      <td>7813.0</td>\n",
       "      <td>0.023700</td>\n",
       "      <td>0.025388</td>\n",
       "      <td>0.0</td>\n",
       "      <td>0.009</td>\n",
       "      <td>0.014</td>\n",
       "      <td>0.027</td>\n",
       "      <td>0.240</td>\n",
       "    </tr>\n",
       "    <tr>\n",
       "      <th>wiki_leak</th>\n",
       "      <td>7813.0</td>\n",
       "      <td>0.027443</td>\n",
       "      <td>0.025480</td>\n",
       "      <td>0.0</td>\n",
       "      <td>0.012</td>\n",
       "      <td>0.017</td>\n",
       "      <td>0.032</td>\n",
       "      <td>0.186</td>\n",
       "    </tr>\n",
       "    <tr>\n",
       "      <th>doctrine</th>\n",
       "      <td>7813.0</td>\n",
       "      <td>0.028286</td>\n",
       "      <td>0.024905</td>\n",
       "      <td>0.0</td>\n",
       "      <td>0.012</td>\n",
       "      <td>0.018</td>\n",
       "      <td>0.034</td>\n",
       "      <td>0.157</td>\n",
       "    </tr>\n",
       "    <tr>\n",
       "      <th>arab_spring</th>\n",
       "      <td>7813.0</td>\n",
       "      <td>0.019886</td>\n",
       "      <td>0.023892</td>\n",
       "      <td>0.0</td>\n",
       "      <td>0.006</td>\n",
       "      <td>0.010</td>\n",
       "      <td>0.022</td>\n",
       "      <td>0.190</td>\n",
       "    </tr>\n",
       "    <tr>\n",
       "      <th>russian_reset</th>\n",
       "      <td>7813.0</td>\n",
       "      <td>0.022513</td>\n",
       "      <td>0.016693</td>\n",
       "      <td>0.0</td>\n",
       "      <td>0.010</td>\n",
       "      <td>0.017</td>\n",
       "      <td>0.030</td>\n",
       "      <td>0.099</td>\n",
       "    </tr>\n",
       "  </tbody>\n",
       "</table>\n",
       "</div>"
      ],
      "text/plain": [
       "                count      mean       std  min    25%    50%    75%    max\n",
       "edited_x       7813.0  0.549213  0.497604  0.0  0.000  1.000  1.000  1.000\n",
       "benghazi       7813.0  0.023700  0.025388  0.0  0.009  0.014  0.027  0.240\n",
       "wiki_leak      7813.0  0.027443  0.025480  0.0  0.012  0.017  0.032  0.186\n",
       "doctrine       7813.0  0.028286  0.024905  0.0  0.012  0.018  0.034  0.157\n",
       "arab_spring    7813.0  0.019886  0.023892  0.0  0.006  0.010  0.022  0.190\n",
       "russian_reset  7813.0  0.022513  0.016693  0.0  0.010  0.017  0.030  0.099"
      ]
     },
     "execution_count": 43,
     "metadata": {},
     "output_type": "execute_result"
    }
   ],
   "source": [
    "cosim_df.describe().T"
   ]
  },
  {
   "cell_type": "code",
   "execution_count": 42,
   "metadata": {
    "collapsed": false
   },
   "outputs": [
    {
     "data": {
      "image/png": "[encoded data removed]",
      "text/plain": [
       "<matplotlib.figure.Figure at 0x116ebd8d0>"
      ]
     },
     "metadata": {},
     "output_type": "display_data"
    }
   ],
   "source": [
    "# Visualise distribution of emails by topic cosim\n",
    "plt.figure(num=None, figsize=(8, 6), dpi=80, facecolor='w', edgecolor='k')\n",
    "\n",
    "ax = sns.boxplot(data=cosim_df.ix[:,3:], orient='h')\n",
    "boxes = ax.artists\n",
    "\n",
    "for i,box in enumerate(boxes):\n",
    "        box.set_facecolor('#278DBC')\n",
    "\n",
    "ax.yaxis.grid() # horizontal lines\n",
    "ax.xaxis.grid() # vertical lines\n",
    "plt.tight_layout()\n",
    "plt.show()"
   ]
  },
  {
   "cell_type": "code",
   "execution_count": 44,
   "metadata": {
    "collapsed": false
   },
   "outputs": [],
   "source": [
    "# Set cos_sim below certain threshold equal to zero\n",
    "cosim_df2 = cosim_df.copy()\n",
    "# cosim_df2.ix[:,3:] = cosim_df2.ix[:,3:].applymap(lambda x: round(x, 2) if x > 0.01 else 0)\n",
    "cosim_df2.benghazi = cosim_df2.benghazi.apply(lambda x: round(x, 3) if x > np.percentile(cosim_df2.benghazi, 75) else 0)\n",
    "cosim_df2.wiki_leak = cosim_df2.wiki_leak.apply(lambda x: round(x, 3) if x > np.percentile(cosim_df2.wiki_leak, 75) else 0)\n",
    "cosim_df2.doctrine = cosim_df2.doctrine.apply(lambda x: round(x, 3) if x > np.percentile(cosim_df2.doctrine, 75) else 0)\n",
    "cosim_df2.arab_spring = cosim_df2.arab_spring.apply(lambda x: round(x, 3) if x > np.percentile(cosim_df2.arab_spring, 75) else 0)\n",
    "cosim_df2.russian_reset = cosim_df2.russian_reset.apply(lambda x: round(x, 3) if x > np.percentile(cosim_df2.russian_reset, 75) else 0)"
   ]
  },
  {
   "cell_type": "code",
   "execution_count": 49,
   "metadata": {
    "collapsed": false
   },
   "outputs": [],
   "source": [
    "# Set emails topic to be that which the email has the highest cosine similarity to\n",
    "topic_df = cosim_df2.copy()\n",
    "topic_df.insert(3, 'NA', 0)\n",
    "topic_df['email_topic'] = topic_df.ix[:,3:].idxmax(axis=1)\n",
    "\n",
    "# Make dummies for email topics\n",
    "topic_df = pd.concat([topic_df[['DocNumber', 'date', 'edited_x']],\n",
    "                      pd.get_dummies(topic_df.email_topic, prefix='')], \n",
    "                      axis=1)"
   ]
  },
  {
   "cell_type": "code",
   "execution_count": 56,
   "metadata": {
    "collapsed": false
   },
   "outputs": [
    {
     "data": {
      "text/plain": [
       "0.3140918981185204"
      ]
     },
     "execution_count": 56,
     "metadata": {},
     "output_type": "execute_result"
    }
   ],
   "source": [
    "total_topics = np.sum(topic_df['_benghazi']) + np.sum(topic_df['_arab_spring']) + np.sum(topic_df['_wiki_leak']) + np.sum(topic_df['_doctrine']) + np.sum(topic_df['_russian_reset'])\n",
    "total_topics / len(cosim_df)\n",
    "# total_topics\n",
    "# np.sum(topic_df['_benghazi'])\n",
    "# np.sum(topic_df['_arab_spring'])\n",
    "# np.sum(topic_df['_wiki_leak'])\n",
    "# np.sum(topic_df['_doctrine'])\n",
    "# np.sum(topic_df['_russian_reset'])"
   ]
  },
  {
   "cell_type": "code",
   "execution_count": null,
   "metadata": {
    "collapsed": false
   },
   "outputs": [],
   "source": [
    "# Group by same month in year to count number of emails per topic\n",
    "# i.e. -> emails sent per topic monthly\n",
    "# topic_df.date = pd.to_datetime(topic_df.date, format='%m/%d/%Y')\n",
    "# topic_df.date = pd.to_datetime(topic_df.date, format='%m/%d/%Y')\n",
    "# monthly = pd.DataFrame.groupby(topic_df, by=[topic_df.index.year, topic_df.index.month]).aggregate(np.sum)\n",
    "\n",
    "# monthly\n",
    "# [x.strip() for x in my_string.split(',')]\n",
    "m_y = [(x.split('/')[0], x.split('/')[2]) for x in topic_df.date.tolist()]"
   ]
  },
  {
   "cell_type": "code",
   "execution_count": null,
   "metadata": {
    "collapsed": false
   },
   "outputs": [],
   "source": [
    "# Dataframe for visualisations\n",
    "# topic_df.index.year\n",
    "\n",
    "vis_df = topic_df.copy()\n",
    "# vis_df['year'] = [y for y, m in vis_df.date.tolist()]\n",
    "# vis_df['month'] = [m for y, m in vis_df.date.tolist()]\n",
    "# vis_df['year_month'] = [ for y, m in vis_df.date.tolist()]"
   ]
  },
  {
   "cell_type": "code",
   "execution_count": null,
   "metadata": {
    "collapsed": false
   },
   "outputs": [],
   "source": [
    "# total_topics\n",
    "np.sum(vis_df._benghazi)"
   ]
  },
  {
   "cell_type": "code",
   "execution_count": null,
   "metadata": {
    "collapsed": false
   },
   "outputs": [],
   "source": [
    "sns.set_style(\"white\")\n",
    "sns.set_context({\"figure.figsize\": (17, 6)}) #Passing in matplotlib commands directly\n",
    "\n",
    "#Plot data\n",
    "#Use dataset.index as my x_order, to ensure proper ordering by using numeric series\n",
    "plot_emails = sns.barplot(vis_df.month, \n",
    "                          \"_doctrine\", \n",
    "                          data = vis_df, \n",
    "                          color = \"#278DBC\", dropna = False, ci = None,\n",
    "                          x_order = vis_df.month)\n",
    "\n",
    "\n",
    "#Hack to use matplotlib directly to set bar width, since Seaborn doesn't currently allow for setting bar width\n",
    "plot_emails = vis_df.month.plot(kind='bar', \n",
    "                                width = .5,\n",
    "                                color =  '#000099', clip_on=False, grid=False)\n",
    "plot_emails.yaxis.grid(color='gray', linestyle='solid')\n",
    "plot_emails.set_axisbelow(True)\n",
    "\n",
    "\n",
    "#Remove borders around graph, remove axis labels\n",
    "#Needs to be called after plot generated or it doesn't work\n",
    "# sns.despine(left=True) \n",
    "# sns.axlabel(\"\", \"\") \n",
    "\n",
    "#Set custom labels for chart\n",
    "sns_views.set_xticklabels(vis_df.month, rotation=0)\n",
    "\n",
    "#Create legend using same matplotlib code from above\n",
    "# sns_views.legend([emails, edited], ['emails', 'edited'], loc=1, ncol = 2)"
   ]
  },
  {
   "cell_type": "code",
   "execution_count": null,
   "metadata": {
    "collapsed": false
   },
   "outputs": [],
   "source": [
    "planets.head(3)"
   ]
  },
  {
   "cell_type": "code",
   "execution_count": null,
   "metadata": {
    "collapsed": false
   },
   "outputs": [],
   "source": [
    "# Barplot of emails by topic over time\n",
    "sns.set(style=\"white\")\n",
    "sns.set_context({\"figure.figsize\": (17, 6)}) #Passing in matplotlib commands directly\n",
    "\n",
    "# Make a range of years to show categories with no observations\n",
    "years = np.arange(2007, 2015)\n",
    "\n",
    "\n",
    "#Plot data\n",
    "#Use dataset.index as my x_order, to ensure proper ordering by using numeric series\n",
    "sns_views = sns.barplot(dataset.Month, \"Views\", data = dataset, color = \"#278DBC\", dropna = False, ci=None, x_order=dataset.Month)\n",
    "\n",
    "\n",
    "\n",
    "\n",
    "# Draw a count plot to show the number of planets discovered each year\n",
    "g = sns.factorplot(x = vis_df.year,\n",
    "                   data = vis_df,\n",
    "                   kind = \"count\",\n",
    "                   palette = \"BuPu\",\n",
    "                   size = 6, aspect = 1.5, order = years)\n",
    "\n",
    "g.set_xticklabels(step=2)"
   ]
  },
  {
   "cell_type": "code",
   "execution_count": null,
   "metadata": {
    "collapsed": false
   },
   "outputs": [],
   "source": []
  },
  {
   "cell_type": "code",
   "execution_count": null,
   "metadata": {
    "collapsed": false
   },
   "outputs": [],
   "source": []
  },
  {
   "cell_type": "code",
   "execution_count": null,
   "metadata": {
    "collapsed": false
   },
   "outputs": [],
   "source": []
  },
  {
   "cell_type": "code",
   "execution_count": null,
   "metadata": {
    "collapsed": false
   },
   "outputs": [],
   "source": []
  },
  {
   "cell_type": "code",
   "execution_count": null,
   "metadata": {
    "collapsed": false
   },
   "outputs": [],
   "source": []
  },
  {
   "cell_type": "code",
   "execution_count": null,
   "metadata": {
    "collapsed": false
   },
   "outputs": [],
   "source": []
  },
  {
   "cell_type": "code",
   "execution_count": null,
   "metadata": {
    "collapsed": false
   },
   "outputs": [],
   "source": []
  },
  {
   "cell_type": "code",
   "execution_count": null,
   "metadata": {
    "collapsed": true
   },
   "outputs": [],
   "source": []
  },
  {
   "cell_type": "code",
   "execution_count": null,
   "metadata": {
    "collapsed": true
   },
   "outputs": [],
   "source": []
  },
  {
   "cell_type": "code",
   "execution_count": null,
   "metadata": {
    "collapsed": true
   },
   "outputs": [],
   "source": []
  },
  {
   "cell_type": "code",
   "execution_count": null,
   "metadata": {
    "collapsed": false
   },
   "outputs": [],
   "source": [
    "sns.set(style=\"white\")\n",
    "\n",
    "# Load the example planets dataset\n",
    "planets = sns.load_dataset(\"planets\")\n",
    "\n",
    "# Make a range of years to show categories with no observations\n",
    "years = np.arange(2000, 2015)\n",
    "\n",
    "# Draw a count plot to show the number of planets discovered each year\n",
    "g = sns.factorplot(x=\"year\", data=planets, kind=\"count\",\n",
    "                   palette=\"BuPu\", size=6, aspect=1.5, order=years)\n",
    "g.set_xticklabels(step=2)\n",
    "\n",
    "planets.head()"
   ]
  },
  {
   "cell_type": "code",
   "execution_count": null,
   "metadata": {
    "collapsed": false
   },
   "outputs": [],
   "source": [
    "sns.set(style=\"white\")\n",
    "\n",
    "# Make a range of years to show categories with no observations\n",
    "years = np.arange(2000, 2015)\n",
    "\n",
    "# Draw a count plot to show the number of planets discovered each year\n",
    "g = sns.factorplot(x=\"year\", data=cosim_df, kind=\"count\",\n",
    "                   palette=\"BuPu\", size=6, aspect=1.5, order=years)\n",
    "\n",
    "g.set_xticklabels(step=2)"
   ]
  },
  {
   "cell_type": "code",
   "execution_count": null,
   "metadata": {
    "collapsed": false
   },
   "outputs": [],
   "source": [
    "# Split up the inv_num in lists into seperate columns\n",
    "# arg: id_vars -cols not to 'un-pivot'\n",
    "# arg: value_vars -names of the new cols created in the stretched df\n",
    "#       = length of list in original in_num list\n",
    "\n",
    "\n",
    "# data = []\n",
    "# for i in range(5):\n",
    "#     data.append(dict(zip(np.random.choice(10, replace=False, size=5),\n",
    "#                          np.random.randint(10, size=5))))\n",
    "# df = pd.DataFrame(data)\n",
    "# print(df)\n",
    "# In other words, do not form a new DataFrame for each row. \n",
    "# Instead, collect all the data in a list of dicts, \n",
    "# and then call df = pd.DataFrame(data) once at the end, outside the loop."
   ]
  },
  {
   "cell_type": "code",
   "execution_count": null,
   "metadata": {
    "collapsed": false
   },
   "outputs": [],
   "source": []
  },
  {
   "cell_type": "code",
   "execution_count": null,
   "metadata": {
    "collapsed": true
   },
   "outputs": [],
   "source": []
  }
 ],
 "metadata": {
  "kernelspec": {
   "display_name": "Python 2",
   "language": "python",
   "name": "python2"
  },
  "language_info": {
   "codemirror_mode": {
    "name": "ipython",
    "version": 2
   },
   "file_extension": ".py",
   "mimetype": "text/x-python",
   "name": "python",
   "nbconvert_exporter": "python",
   "pygments_lexer": "ipython2",
   "version": "2.7.10"
  }
 },
 "nbformat": 4,
 "nbformat_minor": 0
}
