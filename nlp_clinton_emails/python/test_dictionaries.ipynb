{
 "cells": [
  {
   "cell_type": "code",
   "execution_count": 202,
   "metadata": {
    "collapsed": true
   },
   "outputs": [],
   "source": [
    "# Prepare environment and load data\n",
    "import pandas as pd\n",
    "import nltk\n",
    "import feather\n",
    "import re, math\n",
    "from collections import Counter\n",
    "\n",
    "event_dict = feather.read_dataframe('../parsed_data/parsed_dict.feather')"
   ]
  },
  {
   "cell_type": "code",
   "execution_count": 203,
   "metadata": {
    "collapsed": false
   },
   "outputs": [
    {
     "data": {
      "text/html": [
       "<div>\n",
       "<table border=\"1\" class=\"dataframe\">\n",
       "  <thead>\n",
       "    <tr style=\"text-align: right;\">\n",
       "      <th>event</th>\n",
       "      <th>benghazi</th>\n",
       "      <th>cancer</th>\n",
       "      <th>wiki_leak</th>\n",
       "      <th>doctrine</th>\n",
       "      <th>arab_spring</th>\n",
       "      <th>russian_reset</th>\n",
       "    </tr>\n",
       "  </thead>\n",
       "  <tbody>\n",
       "    <tr>\n",
       "      <th>dictionary</th>\n",
       "      <td>benghazi, attack, took, place, even, septemb, ...</td>\n",
       "      <td>cancer, group, diseas, involv, abnorm, cell, g...</td>\n",
       "      <td>unit, state, diplomat, cabl, leak, wide, known...</td>\n",
       "      <td>hillari, doctrin, term, us, describ, agenda, f...</td>\n",
       "      <td>arab, spring, arab, ar, rab, al, revolutionari...</td>\n",
       "      <td>russian, reset, attempt, obama, administr, imp...</td>\n",
       "    </tr>\n",
       "  </tbody>\n",
       "</table>\n",
       "</div>"
      ],
      "text/plain": [
       "event                                                benghazi  \\\n",
       "dictionary  benghazi, attack, took, place, even, septemb, ...   \n",
       "\n",
       "event                                                  cancer  \\\n",
       "dictionary  cancer, group, diseas, involv, abnorm, cell, g...   \n",
       "\n",
       "event                                               wiki_leak  \\\n",
       "dictionary  unit, state, diplomat, cabl, leak, wide, known...   \n",
       "\n",
       "event                                                doctrine  \\\n",
       "dictionary  hillari, doctrin, term, us, describ, agenda, f...   \n",
       "\n",
       "event                                             arab_spring  \\\n",
       "dictionary  arab, spring, arab, ar, rab, al, revolutionari...   \n",
       "\n",
       "event                                           russian_reset  \n",
       "dictionary  russian, reset, attempt, obama, administr, imp...  "
      ]
     },
     "execution_count": 203,
     "metadata": {},
     "output_type": "execute_result"
    }
   ],
   "source": [
    "## Prepare event dataframe\n",
    "\n",
    "# re.sub(r'(^|\\s)x(\\w+,)', r'', x)\n",
    "\n",
    "event_dict.drop(['NA'], inplace=True, axis=1)\n",
    "event_dict = event_dict.transpose()\n",
    "event_dict.columns = event_dict.loc['event']\n",
    "event_dict = event_dict.reindex(event_dict.index.drop(['event']))\n",
    "event_dict = event_dict.applymap(lambda z: re.sub(r'(^|\\s)x(\\w+,)', r'', z))\n",
    "event_dict.head()"
   ]
  },
  {
   "cell_type": "code",
   "execution_count": 204,
   "metadata": {
    "collapsed": true
   },
   "outputs": [],
   "source": [
    "event_dict1 = event_dict.T\n",
    "event_dict2 = event_dict\n",
    "\n",
    "# Helper function to convert text to vector\n",
    "WORD = re.compile(r'\\w+')\n",
    "\n",
    "def text_to_vector(text):\n",
    "     words = WORD.findall(text)\n",
    "     return Counter(words)\n",
    "\n",
    "# Helper function to compute cosine similarity\n",
    "def cosine_sim(vect1, vect2):\n",
    "    a = set(vect1)\n",
    "    b = set(vect2)\n",
    "    top = len(a & b)\n",
    "    bottom = len(a | b)\n",
    "    if not bottom:\n",
    "        sim = 0\n",
    "    else:\n",
    "        sim = top / float(bottom)\n",
    "\n",
    "    return sim"
   ]
  },
  {
   "cell_type": "code",
   "execution_count": 205,
   "metadata": {
    "collapsed": false
   },
   "outputs": [],
   "source": [
    "# Create new dataframe to contain cosine similarities\n",
    "# cosim_df = pd.DataFrame.from_dict(dict([for l in list_events ]))\n",
    "cosim_df = pd.DataFrame()\n",
    "\n",
    "beng = text_to_vector(event_dict.benghazi[0])\n",
    "canc = text_to_vector(event_dict.cancer[0])\n",
    "wiki = text_to_vector(event_dict.wiki_leak[0])\n",
    "doct = text_to_vector(event_dict.doctrine[0])\n",
    "spring = text_to_vector(event_dict.arab_spring[0])\n",
    "russ = text_to_vector(event_dict.russian_reset[0])\n",
    "# print cosine_sim(beng, hill)\n",
    "\n",
    "benghazi = []\n",
    "cancer = []\n",
    "wiki_leak = []\n",
    "doctrine = []\n",
    "arab_spring = []\n",
    "russian_reset = []\n",
    "\n",
    "event_dict1 = event_dict.applymap(text_to_vector)\n",
    "\n",
    "for index, vocabulary in event_dict1.iterrows():\n",
    "    for vocab in vocabulary:\n",
    "        benghazi.append(round(cosine_sim(beng, vocab), 3))\n",
    "        cancer.append(round(cosine_sim(canc, vocab), 3))\n",
    "        wiki_leak.append(round(cosine_sim(wiki, vocab), 3))\n",
    "        doctrine.append(round(cosine_sim(doct, vocab), 3))\n",
    "        arab_spring.append(round(cosine_sim(spring, vocab), 3))\n",
    "        russian_reset.append(round(cosine_sim(russ, vocab), 3))\n",
    "        \n",
    "        \n",
    "cosim_df['benghazi'] = benghazi\n",
    "cosim_df['cancer'] = cancer\n",
    "cosim_df['wiki_leak'] = wiki_leak\n",
    "cosim_df['doctrine'] = doctrine\n",
    "cosim_df['arab_spring'] = arab_spring\n",
    "cosim_df['russian_reset'] = russian_reset"
   ]
  },
  {
   "cell_type": "code",
   "execution_count": 206,
   "metadata": {
    "collapsed": false
   },
   "outputs": [
    {
     "data": {
      "text/html": [
       "<div>\n",
       "<table border=\"1\" class=\"dataframe\">\n",
       "  <thead>\n",
       "    <tr style=\"text-align: right;\">\n",
       "      <th></th>\n",
       "      <th>benghazi</th>\n",
       "      <th>cancer</th>\n",
       "      <th>wiki_leak</th>\n",
       "      <th>doctrine</th>\n",
       "      <th>arab_spring</th>\n",
       "      <th>russian_reset</th>\n",
       "    </tr>\n",
       "  </thead>\n",
       "  <tbody>\n",
       "    <tr>\n",
       "      <th>benghazi</th>\n",
       "      <td>1.000</td>\n",
       "      <td>0.182</td>\n",
       "      <td>0.240</td>\n",
       "      <td>0.147</td>\n",
       "      <td>0.272</td>\n",
       "      <td>0.068</td>\n",
       "    </tr>\n",
       "    <tr>\n",
       "      <th>cancer</th>\n",
       "      <td>0.182</td>\n",
       "      <td>1.000</td>\n",
       "      <td>0.156</td>\n",
       "      <td>0.130</td>\n",
       "      <td>0.173</td>\n",
       "      <td>0.046</td>\n",
       "    </tr>\n",
       "    <tr>\n",
       "      <th>wiki_leak</th>\n",
       "      <td>0.240</td>\n",
       "      <td>0.156</td>\n",
       "      <td>1.000</td>\n",
       "      <td>0.159</td>\n",
       "      <td>0.226</td>\n",
       "      <td>0.080</td>\n",
       "    </tr>\n",
       "    <tr>\n",
       "      <th>doctrine</th>\n",
       "      <td>0.147</td>\n",
       "      <td>0.130</td>\n",
       "      <td>0.159</td>\n",
       "      <td>1.000</td>\n",
       "      <td>0.152</td>\n",
       "      <td>0.080</td>\n",
       "    </tr>\n",
       "    <tr>\n",
       "      <th>arab_spring</th>\n",
       "      <td>0.272</td>\n",
       "      <td>0.173</td>\n",
       "      <td>0.226</td>\n",
       "      <td>0.152</td>\n",
       "      <td>1.000</td>\n",
       "      <td>0.063</td>\n",
       "    </tr>\n",
       "    <tr>\n",
       "      <th>russian_reset</th>\n",
       "      <td>0.068</td>\n",
       "      <td>0.046</td>\n",
       "      <td>0.080</td>\n",
       "      <td>0.080</td>\n",
       "      <td>0.063</td>\n",
       "      <td>1.000</td>\n",
       "    </tr>\n",
       "  </tbody>\n",
       "</table>\n",
       "</div>"
      ],
      "text/plain": [
       "               benghazi  cancer  wiki_leak  doctrine  arab_spring  \\\n",
       "benghazi          1.000   0.182      0.240     0.147        0.272   \n",
       "cancer            0.182   1.000      0.156     0.130        0.173   \n",
       "wiki_leak         0.240   0.156      1.000     0.159        0.226   \n",
       "doctrine          0.147   0.130      0.159     1.000        0.152   \n",
       "arab_spring       0.272   0.173      0.226     0.152        1.000   \n",
       "russian_reset     0.068   0.046      0.080     0.080        0.063   \n",
       "\n",
       "               russian_reset  \n",
       "benghazi               0.068  \n",
       "cancer                 0.046  \n",
       "wiki_leak              0.080  \n",
       "doctrine               0.080  \n",
       "arab_spring            0.063  \n",
       "russian_reset          1.000  "
      ]
     },
     "execution_count": 206,
     "metadata": {},
     "output_type": "execute_result"
    }
   ],
   "source": [
    "cosim_df1 = cosim_df.copy()\n",
    "cosim_df1.index = list(cosim_df.columns.values)\n",
    "cosim_df1"
   ]
  },
  {
   "cell_type": "code",
   "execution_count": 159,
   "metadata": {
    "collapsed": false
   },
   "outputs": [],
   "source": [
    "# event_dict.applymap(lambda x: filter(lambda z:z[0]!='x', x.split()))"
   ]
  },
  {
   "cell_type": "code",
   "execution_count": null,
   "metadata": {
    "collapsed": false
   },
   "outputs": [],
   "source": []
  },
  {
   "cell_type": "code",
   "execution_count": 109,
   "metadata": {
    "collapsed": false
   },
   "outputs": [
    {
     "data": {
      "text/plain": [
       "u'0.18.1'"
      ]
     },
     "execution_count": 109,
     "metadata": {},
     "output_type": "execute_result"
    }
   ],
   "source": [
    "pd.__version__"
   ]
  }
 ],
 "metadata": {
  "kernelspec": {
   "display_name": "Python 2",
   "language": "python",
   "name": "python2"
  },
  "language_info": {
   "codemirror_mode": {
    "name": "ipython",
    "version": 2
   },
   "file_extension": ".py",
   "mimetype": "text/x-python",
   "name": "python",
   "nbconvert_exporter": "python",
   "pygments_lexer": "ipython2",
   "version": "2.7.10"
  }
 },
 "nbformat": 4,
 "nbformat_minor": 0
}
