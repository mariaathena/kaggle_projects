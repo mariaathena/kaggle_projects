{
 "cells": [
  {
   "cell_type": "code",
   "execution_count": 129,
   "metadata": {
    "collapsed": true
   },
   "outputs": [],
   "source": [
    "# Prepare environment and load data\n",
    "import pandas as pd\n",
    "import nltk\n",
    "import feather\n",
    "import re, math\n",
    "from collections import Counter\n",
    "\n",
    "event_dict = feather.read_dataframe('../parsed_data/parsed_dict.feather')"
   ]
  },
  {
   "cell_type": "code",
   "execution_count": 130,
   "metadata": {
    "collapsed": false
   },
   "outputs": [
    {
     "data": {
      "text/html": [
       "<div>\n",
       "<table border=\"1\" class=\"dataframe\">\n",
       "  <thead>\n",
       "    <tr style=\"text-align: right;\">\n",
       "      <th>event</th>\n",
       "      <th>benghazi</th>\n",
       "      <th>iran_deal</th>\n",
       "      <th>hillary</th>\n",
       "      <th>doctrine</th>\n",
       "      <th>arab_spring</th>\n",
       "      <th>benghazi_committe</th>\n",
       "    </tr>\n",
       "  </thead>\n",
       "  <tbody>\n",
       "    <tr>\n",
       "      <th>dictionary</th>\n",
       "      <td>benghazi, attack, took, place, even, septemb, ...</td>\n",
       "      <td>joint, comprehens, plan, action, jcpoa, persia...</td>\n",
       "      <td>hillari, dian, rodham, clinton, da, born, octo...</td>\n",
       "      <td>hillari, doctrin, term, us, describ, agenda, f...</td>\n",
       "      <td>arab, spring, arab, ar, rab, al, revolutionari...</td>\n",
       "      <td>unit, state, hous, select, committe, event, su...</td>\n",
       "    </tr>\n",
       "  </tbody>\n",
       "</table>\n",
       "</div>"
      ],
      "text/plain": [
       "event                                                benghazi  \\\n",
       "dictionary  benghazi, attack, took, place, even, septemb, ...   \n",
       "\n",
       "event                                               iran_deal  \\\n",
       "dictionary  joint, comprehens, plan, action, jcpoa, persia...   \n",
       "\n",
       "event                                                 hillary  \\\n",
       "dictionary  hillari, dian, rodham, clinton, da, born, octo...   \n",
       "\n",
       "event                                                doctrine  \\\n",
       "dictionary  hillari, doctrin, term, us, describ, agenda, f...   \n",
       "\n",
       "event                                             arab_spring  \\\n",
       "dictionary  arab, spring, arab, ar, rab, al, revolutionari...   \n",
       "\n",
       "event                                       benghazi_committe  \n",
       "dictionary  unit, state, hous, select, committe, event, su...  "
      ]
     },
     "execution_count": 130,
     "metadata": {},
     "output_type": "execute_result"
    }
   ],
   "source": [
    "## Prepare event dataframe\n",
    "\n",
    "# re.sub(r'(^|\\s)x(\\w+,)', r'', x)\n",
    "\n",
    "event_dict.drop(['NA'], inplace=True, axis=1)\n",
    "event_dict = event_dict.transpose()\n",
    "event_dict.columns = event_dict.loc['event']\n",
    "event_dict = event_dict.reindex(event_dict.index.drop(['event']))\n",
    "event_dict = event_dict.applymap(lambda z: re.sub(r'(^|\\s)x(\\w+,)', r'', z))\n",
    "event_dict.head()"
   ]
  },
  {
   "cell_type": "code",
   "execution_count": 157,
   "metadata": {
    "collapsed": true
   },
   "outputs": [],
   "source": [
    "event_dict1 = event_dict.T\n",
    "event_dict2 = event_dict\n",
    "\n",
    "# Helper function to convert text to vector\n",
    "WORD = re.compile(r'\\w+')\n",
    "\n",
    "def text_to_vector(text):\n",
    "     words = WORD.findall(text)\n",
    "     return Counter(words)\n",
    "\n",
    "# Helper function to compute cosine similarity\n",
    "def cosine_sim(vect1, vect2):\n",
    "    a = set(vect1)\n",
    "    b = set(vect2)\n",
    "    top = len(a & b)\n",
    "    bottom = len(a | b)\n",
    "    if not bottom:\n",
    "        sim = 0\n",
    "    else:\n",
    "        sim = top / float(bottom)\n",
    "\n",
    "    return sim"
   ]
  },
  {
   "cell_type": "code",
   "execution_count": 171,
   "metadata": {
    "collapsed": false
   },
   "outputs": [],
   "source": [
    "# Create new dataframe to contain cosine similarities\n",
    "# cosim_df = pd.DataFrame.from_dict(dict([for l in list_events ]))\n",
    "cosim_df = pd.DataFrame()\n",
    "\n",
    "beng = text_to_vector(event_dict.benghazi[0])\n",
    "iran = text_to_vector(event_dict.iran_deal[0])\n",
    "hill = text_to_vector(event_dict.hillary[0])\n",
    "doct = text_to_vector(event_dict.doctrine[0])\n",
    "spring = text_to_vector(event_dict.arab_spring[0])\n",
    "comm = text_to_vector(event_dict.benghazi_committe[0])\n",
    "# print cosine_sim(beng, hill)\n",
    "\n",
    "benghazi = []\n",
    "iran_deal = []\n",
    "hillary = []\n",
    "doctrine = []\n",
    "arab_spring = []\n",
    "benghazi_committe = []\n",
    "\n",
    "event_dict1 = event_dict.applymap(text_to_vector)\n",
    "\n",
    "for index, vocabulary in event_dict1.iterrows():\n",
    "    for vocab in vocabulary:\n",
    "        benghazi.append(round(cosine_sim(beng, vocab), 3))\n",
    "        iran_deal.append(round(cosine_sim(iran, vocab), 3))\n",
    "        hillary.append(round(cosine_sim(hill, vocab), 3))\n",
    "        doctrine.append(round(cosine_sim(doct, vocab), 3))\n",
    "        arab_spring.append(round(cosine_sim(spring, vocab), 3))\n",
    "        benghazi_committe.append(round(cosine_sim(comm, vocab), 3))\n",
    "        \n",
    "cosim_df['benghazi'] = benghazi\n",
    "cosim_df['iran_deal'] = iran_deal\n",
    "cosim_df['hillary'] = hillary\n",
    "cosim_df['doctrine'] = doctrine\n",
    "cosim_df['arab_spring'] = arab_spring\n",
    "cosim_df['benghazi_committe'] = benghazi_committe"
   ]
  },
  {
   "cell_type": "code",
   "execution_count": 172,
   "metadata": {
    "collapsed": false
   },
   "outputs": [
    {
     "data": {
      "text/html": [
       "<div>\n",
       "<table border=\"1\" class=\"dataframe\">\n",
       "  <thead>\n",
       "    <tr style=\"text-align: right;\">\n",
       "      <th></th>\n",
       "      <th>benghazi</th>\n",
       "      <th>iran_deal</th>\n",
       "      <th>hillary</th>\n",
       "      <th>doctrine</th>\n",
       "      <th>arab_spring</th>\n",
       "      <th>benghazi_committe</th>\n",
       "    </tr>\n",
       "  </thead>\n",
       "  <tbody>\n",
       "    <tr>\n",
       "      <th>benghazi</th>\n",
       "      <td>1.000</td>\n",
       "      <td>0.264</td>\n",
       "      <td>0.290</td>\n",
       "      <td>0.147</td>\n",
       "      <td>0.272</td>\n",
       "      <td>0.261</td>\n",
       "    </tr>\n",
       "    <tr>\n",
       "      <th>iran_deal</th>\n",
       "      <td>0.264</td>\n",
       "      <td>1.000</td>\n",
       "      <td>0.311</td>\n",
       "      <td>0.126</td>\n",
       "      <td>0.226</td>\n",
       "      <td>0.212</td>\n",
       "    </tr>\n",
       "    <tr>\n",
       "      <th>hillary</th>\n",
       "      <td>0.290</td>\n",
       "      <td>0.311</td>\n",
       "      <td>1.000</td>\n",
       "      <td>0.154</td>\n",
       "      <td>0.248</td>\n",
       "      <td>0.235</td>\n",
       "    </tr>\n",
       "    <tr>\n",
       "      <th>doctrine</th>\n",
       "      <td>0.147</td>\n",
       "      <td>0.126</td>\n",
       "      <td>0.154</td>\n",
       "      <td>1.000</td>\n",
       "      <td>0.152</td>\n",
       "      <td>0.172</td>\n",
       "    </tr>\n",
       "    <tr>\n",
       "      <th>arab_spring</th>\n",
       "      <td>0.272</td>\n",
       "      <td>0.226</td>\n",
       "      <td>0.248</td>\n",
       "      <td>0.152</td>\n",
       "      <td>1.000</td>\n",
       "      <td>0.205</td>\n",
       "    </tr>\n",
       "    <tr>\n",
       "      <th>benghazi_committe</th>\n",
       "      <td>0.261</td>\n",
       "      <td>0.212</td>\n",
       "      <td>0.235</td>\n",
       "      <td>0.172</td>\n",
       "      <td>0.205</td>\n",
       "      <td>1.000</td>\n",
       "    </tr>\n",
       "  </tbody>\n",
       "</table>\n",
       "</div>"
      ],
      "text/plain": [
       "                   benghazi  iran_deal  hillary  doctrine  arab_spring  \\\n",
       "benghazi              1.000      0.264    0.290     0.147        0.272   \n",
       "iran_deal             0.264      1.000    0.311     0.126        0.226   \n",
       "hillary               0.290      0.311    1.000     0.154        0.248   \n",
       "doctrine              0.147      0.126    0.154     1.000        0.152   \n",
       "arab_spring           0.272      0.226    0.248     0.152        1.000   \n",
       "benghazi_committe     0.261      0.212    0.235     0.172        0.205   \n",
       "\n",
       "                   benghazi_committe  \n",
       "benghazi                       0.261  \n",
       "iran_deal                      0.212  \n",
       "hillary                        0.235  \n",
       "doctrine                       0.172  \n",
       "arab_spring                    0.205  \n",
       "benghazi_committe              1.000  "
      ]
     },
     "execution_count": 172,
     "metadata": {},
     "output_type": "execute_result"
    }
   ],
   "source": [
    "cosim_df1 = cosim_df\n",
    "cosim_df1.index = list(cosim_df.columns.values)\n",
    "cosim_df1"
   ]
  },
  {
   "cell_type": "code",
   "execution_count": 159,
   "metadata": {
    "collapsed": false
   },
   "outputs": [],
   "source": [
    "# event_dict.applymap(lambda x: filter(lambda z:z[0]!='x', x.split()))"
   ]
  },
  {
   "cell_type": "code",
   "execution_count": null,
   "metadata": {
    "collapsed": false
   },
   "outputs": [],
   "source": []
  },
  {
   "cell_type": "code",
   "execution_count": 109,
   "metadata": {
    "collapsed": false
   },
   "outputs": [
    {
     "data": {
      "text/plain": [
       "u'0.18.1'"
      ]
     },
     "execution_count": 109,
     "metadata": {},
     "output_type": "execute_result"
    }
   ],
   "source": [
    "pd.__version__"
   ]
  }
 ],
 "metadata": {
  "kernelspec": {
   "display_name": "Python 2",
   "language": "python",
   "name": "python2"
  },
  "language_info": {
   "codemirror_mode": {
    "name": "ipython",
    "version": 2
   },
   "file_extension": ".py",
   "mimetype": "text/x-python",
   "name": "python",
   "nbconvert_exporter": "python",
   "pygments_lexer": "ipython2",
   "version": "2.7.10"
  }
 },
 "nbformat": 4,
 "nbformat_minor": 0
}
